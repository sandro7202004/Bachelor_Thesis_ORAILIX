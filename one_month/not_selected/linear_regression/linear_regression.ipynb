{
 "cells": [
  {
   "cell_type": "markdown",
   "id": "79eb061b",
   "metadata": {},
   "source": [
    "\n",
    "# Linear Regression Method for the Train Delay Prediction\n"
   ]
  },
  {
   "cell_type": "markdown",
   "id": "d613f4e7",
   "metadata": {},
   "source": [
    "### First of all, we have to load the data, then take a pre-trained model and fit it to our data.\n",
    "\n",
    "### For the sake of simplicity and time complexity, we are only going to use 10% of the data we have, and will use 100 estimators (or number of trees)."
   ]
  },
  {
   "cell_type": "markdown",
   "id": "044b1aab",
   "metadata": {},
   "source": [
    "The first step is to have our imports and the logging configuration."
   ]
  },
  {
   "cell_type": "code",
   "execution_count": 1,
   "id": "45e15608",
   "metadata": {
    "execution": {
     "iopub.execute_input": "2025-01-22T00:50:56.377646Z",
     "iopub.status.busy": "2025-01-22T00:50:56.377361Z",
     "iopub.status.idle": "2025-01-22T00:50:57.512345Z",
     "shell.execute_reply": "2025-01-22T00:50:57.511881Z"
    }
   },
   "outputs": [],
   "source": [
    "from sklearn.linear_model import LinearRegression\n",
    "\n",
    "import sys\n",
    "import os\n",
    "\n",
    "sys.path.append(os.path.dirname(\"/Users/mac/Desktop/train_delay_prediction/utils.py\"))\n",
    "\n",
    "from utils import *\n",
    "\n",
    "logging.basicConfig(\n",
    "    filename='linear_regression_evaluation.log',\n",
    "    level=logging.INFO,\n",
    "    format='%(asctime)s - %(levelname)s - %(message)s',\n",
    ")\n",
    "logging.info(\"Starting Linear Regression evaluation script.\")"
   ]
  },
  {
   "cell_type": "markdown",
   "id": "6ebad6e7",
   "metadata": {},
   "source": [
    "Then we have to load the data and split it correctly, in a way that is not biased. This means separating the test and train set in a way that they are independent according to the dates of departure in order to mitigate overfitting."
   ]
  },
  {
   "cell_type": "code",
   "execution_count": 2,
   "id": "2a3f700d",
   "metadata": {
    "execution": {
     "iopub.execute_input": "2025-01-22T00:50:57.514343Z",
     "iopub.status.busy": "2025-01-22T00:50:57.514103Z",
     "iopub.status.idle": "2025-01-22T00:51:00.363333Z",
     "shell.execute_reply": "2025-01-22T00:51:00.362824Z"
    }
   },
   "outputs": [],
   "source": [
    "data = load_data(percentage_of_data_usage=1.0)\n",
    "\n",
    "X_train = data[\"X_train\"]\n",
    "y_train = data[\"y_train\"]\n",
    "X_test = data[\"X_test\"]\n",
    "y_test = data[\"y_test\"]"
   ]
  },
  {
   "cell_type": "markdown",
   "id": "073349de",
   "metadata": {},
   "source": [
    "Now, we our going to do a multi-output regression, fit the model to our data, and get the predicted delay stored in a variable."
   ]
  },
  {
   "cell_type": "code",
   "execution_count": 3,
   "id": "ef811ca8",
   "metadata": {
    "execution": {
     "iopub.execute_input": "2025-01-22T00:51:00.365640Z",
     "iopub.status.busy": "2025-01-22T00:51:00.365288Z",
     "iopub.status.idle": "2025-01-22T00:51:16.979339Z",
     "shell.execute_reply": "2025-01-22T00:51:16.978843Z"
    }
   },
   "outputs": [],
   "source": [
    "trained_models = {}\n",
    "\n",
    "lr_regressor = LinearRegression(n_jobs=-1)\n",
    "\n",
    "model_name = \"Linear_Regression\"\n",
    "trained_model_data = train(lr_regressor, X_train, y_train, model_name, savemodel=False)\n",
    "trained_models[model_name] = trained_model_data"
   ]
  },
  {
   "cell_type": "markdown",
   "id": "96bbfa4c",
   "metadata": {},
   "source": [
    "We are defining some score metrics to measure accuracy and eventually compare our model to the others. We will save all of those metrics in a .npy and in a .json file in order to store them and load them easily when needed."
   ]
  },
  {
   "cell_type": "code",
   "execution_count": 4,
   "id": "ada84565",
   "metadata": {
    "execution": {
     "iopub.execute_input": "2025-01-22T00:51:16.982120Z",
     "iopub.status.busy": "2025-01-22T00:51:16.981779Z",
     "iopub.status.idle": "2025-01-22T00:51:17.338112Z",
     "shell.execute_reply": "2025-01-22T00:51:17.337636Z"
    }
   },
   "outputs": [],
   "source": [
    "metrics = evaluate_2(\n",
    "    trained_model=trained_model_data,\n",
    "    X_test=X_test,\n",
    "    y_test=y_test,\n",
    "    model_name=model_name,\n",
    ")"
   ]
  },
  {
   "cell_type": "markdown",
   "id": "51ff6e38",
   "metadata": {},
   "source": [
    "The next step is having some graphs just to visualize some results. An important graph is the last one, where we get to see which features have the most influence on our predictions."
   ]
  },
  {
   "cell_type": "code",
   "execution_count": 5,
   "id": "52a8d314",
   "metadata": {
    "execution": {
     "iopub.execute_input": "2025-01-22T00:51:17.339939Z",
     "iopub.status.busy": "2025-01-22T00:51:17.339792Z",
     "iopub.status.idle": "2025-01-22T00:51:24.012382Z",
     "shell.execute_reply": "2025-01-22T00:51:24.011952Z"
    }
   },
   "outputs": [],
   "source": [
    "calculate_feature_importance(\n",
    "    trained_models=trained_models,\n",
    "    X_test=X_test,\n",
    "    y_test=y_test,\n",
    "    plots_folder=\"./plots\",\n",
    "    top_features_threshold=0.01,\n",
    "    n_repeats=5\n",
    ")"
   ]
  },
  {
   "cell_type": "markdown",
   "id": "a3ba0e51",
   "metadata": {},
   "source": [
    "### We are done with the evaluation of the data and prediction of train delay prediction with this model and will move on to the next one. Feel free to load the results wherever they are needed, check out the other models, or see the comparison of all models in the resutls notebook."
   ]
  }
 ],
 "metadata": {
  "kernelspec": {
   "display_name": "base",
   "language": "python",
   "name": "python3"
  },
  "language_info": {
   "codemirror_mode": {
    "name": "ipython",
    "version": 3
   },
   "file_extension": ".py",
   "mimetype": "text/x-python",
   "name": "python",
   "nbconvert_exporter": "python",
   "pygments_lexer": "ipython3",
   "version": "3.11.8"
  }
 },
 "nbformat": 4,
 "nbformat_minor": 5
}
