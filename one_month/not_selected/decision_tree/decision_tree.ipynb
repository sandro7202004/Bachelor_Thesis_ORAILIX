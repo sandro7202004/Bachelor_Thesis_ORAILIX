{
 "cells": [
  {
   "cell_type": "markdown",
   "id": "311b3440",
   "metadata": {},
   "source": [
    "# Decision Tree Regression"
   ]
  },
  {
   "cell_type": "markdown",
   "id": "d54fdb9a",
   "metadata": {},
   "source": [
    "### First of all, we have to load the data, then take a pre-trained model and fit it to our data.\n",
    "\n",
    "### For the sake of simplicity and time complexity, we are only going to use 10% of the data we have, and will use 100 estimators (or number of trees)."
   ]
  },
  {
   "cell_type": "markdown",
   "id": "33a7ea75",
   "metadata": {},
   "source": [
    "The first step is to have our imports and the logging configuration."
   ]
  },
  {
   "cell_type": "code",
   "execution_count": 1,
   "id": "8848cd45",
   "metadata": {
    "execution": {
     "iopub.execute_input": "2025-01-22T00:47:30.700948Z",
     "iopub.status.busy": "2025-01-22T00:47:30.700687Z",
     "iopub.status.idle": "2025-01-22T00:47:31.937989Z",
     "shell.execute_reply": "2025-01-22T00:47:31.937572Z"
    }
   },
   "outputs": [],
   "source": [
    "from sklearn.tree import DecisionTreeRegressor\n",
    "\n",
    "import sys\n",
    "import os\n",
    "\n",
    "sys.path.append(os.path.dirname(\"/Users/mac/Desktop/train_delay_prediction/utils.py\"))\n",
    "\n",
    "from utils import *\n",
    "\n",
    "logging.basicConfig(\n",
    "    filename='decision_tree_evaluation.log',\n",
    "    level=logging.INFO,\n",
    "    format='%(asctime)s - %(levelname)s - %(message)s',\n",
    ")\n",
    "logging.info(\"Starting Decision Tree evaluation script.\")"
   ]
  },
  {
   "cell_type": "markdown",
   "id": "c5216af9",
   "metadata": {},
   "source": [
    "Then we have to load the data and split it correctly, in a way that is not biased. This means separating the test and train set in a way that they are independent according to the dates of departure in order to mitigate overfitting."
   ]
  },
  {
   "cell_type": "code",
   "execution_count": 2,
   "id": "fd481633",
   "metadata": {
    "execution": {
     "iopub.execute_input": "2025-01-22T00:47:31.940730Z",
     "iopub.status.busy": "2025-01-22T00:47:31.940373Z",
     "iopub.status.idle": "2025-01-22T00:47:34.596300Z",
     "shell.execute_reply": "2025-01-22T00:47:34.595848Z"
    }
   },
   "outputs": [],
   "source": [
    "data = load_data(percentage_of_data_usage=1.0)\n",
    "\n",
    "X_train = data[\"X_train\"]\n",
    "y_train = data[\"y_train\"]\n",
    "X_test = data[\"X_test\"]\n",
    "y_test = data[\"y_test\"]"
   ]
  },
  {
   "cell_type": "markdown",
   "id": "e6e64a77",
   "metadata": {},
   "source": [
    "Now, we our going to do a multi-output regression, fit the model to our data, and get the predicted delay stored in a variable."
   ]
  },
  {
   "cell_type": "code",
   "execution_count": 3,
   "id": "7245f55d",
   "metadata": {
    "execution": {
     "iopub.execute_input": "2025-01-22T00:47:34.598705Z",
     "iopub.status.busy": "2025-01-22T00:47:34.598442Z",
     "iopub.status.idle": "2025-01-22T00:50:47.177189Z",
     "shell.execute_reply": "2025-01-22T00:50:47.176784Z"
    }
   },
   "outputs": [],
   "source": [
    "trained_models = {}\n",
    "\n",
    "dt_regressor = DecisionTreeRegressor(\n",
    "    max_depth=None,\n",
    "    random_state=42,\n",
    ")\n",
    "\n",
    "model_name = \"Decision_Tree\"\n",
    "trained_model_data = train(dt_regressor, X_train, y_train, model_name, savemodel=False)\n",
    "trained_models[model_name] = trained_model_data"
   ]
  },
  {
   "cell_type": "markdown",
   "id": "b37358cb",
   "metadata": {},
   "source": [
    "We are defining some score metrics to measure accuracy and eventually compare our model to the others. We will save all of those metrics in a .npy and in a .json file in order to store them and load them easily when needed."
   ]
  },
  {
   "cell_type": "code",
   "execution_count": 4,
   "id": "ffbd2b7b",
   "metadata": {
    "execution": {
     "iopub.execute_input": "2025-01-22T00:50:47.179507Z",
     "iopub.status.busy": "2025-01-22T00:50:47.179320Z",
     "iopub.status.idle": "2025-01-22T00:50:47.509324Z",
     "shell.execute_reply": "2025-01-22T00:50:47.508919Z"
    }
   },
   "outputs": [],
   "source": [
    "metrics = evaluate_2(\n",
    "    trained_model=trained_model_data,\n",
    "    X_test=X_test,\n",
    "    y_test=y_test,\n",
    "    model_name=model_name,\n",
    ")"
   ]
  },
  {
   "cell_type": "markdown",
   "id": "8e89dcd8",
   "metadata": {},
   "source": [
    "The next step is having some graphs just to visualize some results. An important graph is the last one, where we get to see which features have the most influence on our predictions."
   ]
  },
  {
   "cell_type": "code",
   "execution_count": 5,
   "id": "fe8b27cb",
   "metadata": {
    "execution": {
     "iopub.execute_input": "2025-01-22T00:50:47.511356Z",
     "iopub.status.busy": "2025-01-22T00:50:47.511174Z",
     "iopub.status.idle": "2025-01-22T00:50:53.321942Z",
     "shell.execute_reply": "2025-01-22T00:50:53.321512Z"
    }
   },
   "outputs": [],
   "source": [
    "calculate_feature_importance(\n",
    "    trained_models=trained_models,\n",
    "    X_test=X_test,\n",
    "    y_test=y_test,\n",
    "    plots_folder=\"./plots\",\n",
    "    top_features_threshold=0.01,\n",
    "    n_repeats=5\n",
    ")"
   ]
  },
  {
   "cell_type": "markdown",
   "id": "7b935ad3",
   "metadata": {},
   "source": [
    "### We are done with the evaluation of the data and prediction of train delay prediction with this model and will move on to the next one. Feel free to load the results wherever they are needed, check out the other models, or see the comparison of all models in the resutls notebook."
   ]
  }
 ],
 "metadata": {
  "kernelspec": {
   "display_name": "base",
   "language": "python",
   "name": "python3"
  },
  "language_info": {
   "codemirror_mode": {
    "name": "ipython",
    "version": 3
   },
   "file_extension": ".py",
   "mimetype": "text/x-python",
   "name": "python",
   "nbconvert_exporter": "python",
   "pygments_lexer": "ipython3",
   "version": "3.11.8"
  }
 },
 "nbformat": 4,
 "nbformat_minor": 5
}
