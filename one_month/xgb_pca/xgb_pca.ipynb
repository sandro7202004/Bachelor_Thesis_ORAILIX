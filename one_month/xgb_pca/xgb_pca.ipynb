{
 "cells": [
  {
   "cell_type": "code",
   "execution_count": 1,
   "metadata": {},
   "outputs": [],
   "source": [
    "from xgboost import XGBRegressor\n",
    "from sklearn.multioutput import MultiOutputRegressor\n",
    "from sklearn.decomposition import PCA\n",
    "\n",
    "import sys\n",
    "import os\n",
    "import logging\n",
    "\n",
    "sys.path.append(os.path.dirname(\"/Users/mac/Desktop/train_delay_prediction/utils.py\"))\n",
    "\n",
    "from utils import *\n",
    "\n",
    "logging.basicConfig(\n",
    "    filename='xgboost_pca_evaluation.log',\n",
    "    level=logging.INFO,\n",
    "    format='%(asctime)s - %(levelname)s - %(message)s',\n",
    ")\n",
    "logging.info(\"Starting PCA-based eXtreme Gradient Boosting evaluation script.\")"
   ]
  },
  {
   "cell_type": "code",
   "execution_count": 2,
   "metadata": {},
   "outputs": [
    {
     "name": "stdout",
     "output_type": "stream",
     "text": [
      "Running XGBoost with PCA (75 components), n_estimators=50, and max_depth=10\n"
     ]
    }
   ],
   "source": [
    "n_estimators = 50\n",
    "max_depth = 10\n",
    "\n",
    "print(f\"Running XGBoost with PCA (75 components), n_estimators={n_estimators}, and max_depth={max_depth}\")"
   ]
  },
  {
   "cell_type": "code",
   "execution_count": null,
   "metadata": {},
   "outputs": [],
   "source": [
    "data = load_data_more_features(percentage_of_data_usage=1.0)\n",
    "\n",
    "X_train = data[\"X_train\"]\n",
    "y_train = data[\"y_train\"]\n",
    "X_test = data[\"X_test\"]\n",
    "y_test = data[\"y_test\"]\n",
    "\n",
    "past_delay_index = 4\n",
    "futur_planned_start = 200 \n",
    "futur_planned_end = 205\n",
    "\n",
    "past_delay_train = X_train[:, past_delay_index]\n",
    "past_delay_test = X_test[:, past_delay_index]\n",
    "futur_planned_train = X_train[:, futur_planned_start:futur_planned_end]\n",
    "futur_planned_test = X_test[:, futur_planned_start:futur_planned_end]\n",
    "\n",
    "pca = PCA(n_components=75)\n",
    "X_train_pca = pca.fit_transform(X_train)\n",
    "X_test_pca = pca.transform(X_test)\n",
    "\n",
    "logging.info(f\"PCA applied: reduced to {pca.n_components_} components.\")"
   ]
  },
  {
   "cell_type": "code",
   "execution_count": 4,
   "metadata": {},
   "outputs": [],
   "source": [
    "trained_models = {}\n",
    "\n",
    "xgb_regressor = MultiOutputRegressor(\n",
    "    XGBRegressor(\n",
    "        n_estimators=n_estimators,\n",
    "        max_depth=max_depth,\n",
    "        random_state=42,\n",
    "        n_jobs=-1\n",
    "    )\n",
    ")\n",
    "\n",
    "model_name = \"XGBoost_PCA\"\n",
    "trained_model_data = train(xgb_regressor, X_train_pca, y_train, model_name, savemodel=False)\n",
    "trained_models[model_name] = trained_model_data"
   ]
  },
  {
   "cell_type": "code",
   "execution_count": null,
   "metadata": {},
   "outputs": [],
   "source": [
    "def evaluate_pca(trained_model, X_test_pca, y_test, past_delay_test, futur_planned_test, model_name, \n",
    "                 delay_delta_bins=np.array([-np.inf, -5, 0, 5, 10, 15, 20, 25, 30, np.inf]) * 60, \n",
    "                 horizon_obs_bins=np.array([0, 5, 10, 15, np.inf]) * 60, \n",
    "                 results_folder=\"./results\", plots_folder=\"./plots\", suffix=\"_pca\"):\n",
    "    \"\"\"\n",
    "    Evaluates the PCA-based XGBoost model while ensuring MAE is computed in the same way as the original models.\n",
    "\n",
    "    Args:\n",
    "        trained_model (dict): Contains the trained model and metadata.\n",
    "        X_test_pca (np.ndarray): PCA-transformed test feature matrix.\n",
    "        y_test (np.ndarray): Test target matrix.\n",
    "        past_delay_test (np.ndarray): Stored past delay values before PCA.\n",
    "        futur_planned_test (np.ndarray): Stored future planned values before PCA.\n",
    "        model_name (str): Name of the model for saving results.\n",
    "        delay_delta_bins (np.ndarray): Bins for delay-based MAE computation.\n",
    "        horizon_obs_bins (np.ndarray): Bins for horizon-based MAE computation.\n",
    "        results_folder (str): Directory to save evaluation results.\n",
    "        plots_folder (str): Directory to save evaluation plots.\n",
    "        suffix (str): Suffix for filenames.\n",
    "\n",
    "    Returns:\n",
    "        dict: Evaluation metrics.\n",
    "    \"\"\"\n",
    "    logging.basicConfig(level=logging.INFO, format='%(message)s')\n",
    "    log_time(\"Starting PCA-based evaluation.\")\n",
    "\n",
    "    os.makedirs(results_folder, exist_ok=True)\n",
    "    os.makedirs(plots_folder, exist_ok=True)\n",
    "    log_time(\"Created results and plots directories if not already existing.\")\n",
    "\n",
    "    model = trained_model[\"model\"]\n",
    "    log_time(\"Loaded trained PCA-based model.\")\n",
    "\n",
    "    y_pred = model.predict(X_test_pca)\n",
    "    log_time(\"Model predictions completed.\")\n",
    "\n",
    "    y_pred = transform_to_seconds(y_pred)\n",
    "    y_test = transform_to_seconds(y_test)\n",
    "\n",
    "    log_time(\"Transformed predictions and ground truth to seconds.\")\n",
    "\n",
    "    past_delay_sec = transform_to_seconds(past_delay_test) \n",
    "    futur_planned_sec = transform_to_seconds(futur_planned_test)\n",
    "\n",
    "    corrected_translate_test = past_delay_sec - (\n",
    "        (futur_planned_sec[:, 0] + past_delay_sec) < 0\n",
    "    ) * (futur_planned_sec[:, 0] + past_delay_sec)\n",
    "\n",
    "    corrected_translate_test = np.repeat(corrected_translate_test[:, np.newaxis], y_test.shape[1], axis=1)\n",
    "\n",
    "    log_time(\"Computed corrected translation-based estimates.\")\n",
    "\n",
    "    # Compute MAE for PCA model\n",
    "    mae_model = np.abs(y_pred - y_test)\n",
    "    mae_translation = np.abs(corrected_translate_test - y_test)\n",
    "\n",
    "    log_time(\"Computed MAE for model and translation approach.\")\n",
    "\n",
    "    # Compute evaluation metrics (same as evaluate_2)\n",
    "    metrics, mae_delay, mae_horizon = compute_and_save_metrics(\n",
    "        y_test, corrected_translate_test, mae_model, mae_translation,\n",
    "        delay_delta_bins, horizon_obs_bins, futur_planned_sec, trained_model,\n",
    "        results_folder, model_name, suffix\n",
    "    )\n",
    "\n",
    "    # Plot MAE results\n",
    "    plot_mae(mae_delay, mae_horizon, delay_delta_bins, horizon_obs_bins, plots_folder, model_name, suffix)\n",
    "    log_time(\"PCA evaluation complete.\")\n",
    "\n",
    "    return metrics\n",
    "\n",
    "metrics_2 = evaluate_pca(\n",
    "    trained_model=trained_model_data,\n",
    "    X_test_pca=X_test_pca,\n",
    "    y_test=y_test,\n",
    "    past_delay_test=past_delay_test,  # Stored before PCA\n",
    "    futur_planned_test=futur_planned_test,  # Stored before PCA\n",
    "    model_name=model_name\n",
    ")"
   ]
  },
  {
   "cell_type": "code",
   "execution_count": 10,
   "metadata": {},
   "outputs": [
    {
     "name": "stderr",
     "output_type": "stream",
     "text": [
      "Calculating feature importance: 100%|██████████| 1/1 [05:31<00:00, 331.12s/it]\n"
     ]
    }
   ],
   "source": [
    "calculate_feature_importance(\n",
    "    trained_models=trained_models,\n",
    "    X_test=X_test_pca,\n",
    "    y_test=y_test,\n",
    "    feature_mapping={i: f'PC{i+1}' for i in range(75)},  # Map PCA components as features\n",
    "    top_features_threshold=0.01,\n",
    "    n_repeats=5\n",
    ")"
   ]
  }
 ],
 "metadata": {
  "kernelspec": {
   "display_name": "base",
   "language": "python",
   "name": "python3"
  },
  "language_info": {
   "codemirror_mode": {
    "name": "ipython",
    "version": 3
   },
   "file_extension": ".py",
   "mimetype": "text/x-python",
   "name": "python",
   "nbconvert_exporter": "python",
   "pygments_lexer": "ipython3",
   "version": "3.11.8"
  }
 },
 "nbformat": 4,
 "nbformat_minor": 2
}
