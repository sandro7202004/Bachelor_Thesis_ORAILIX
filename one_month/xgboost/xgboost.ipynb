{
 "cells": [
  {
   "cell_type": "markdown",
   "id": "82a0cfe8",
   "metadata": {},
   "source": [
    "# XGBoost or eXtreme Gradient Boosting Method for the Train Delay Prediction"
   ]
  },
  {
   "cell_type": "markdown",
   "id": "d54fdb9a",
   "metadata": {},
   "source": [
    "### First of all, we have to load the data, then take a pre-trained model and fit it to our data."
   ]
  },
  {
   "cell_type": "markdown",
   "id": "33a7ea75",
   "metadata": {},
   "source": [
    "The first step is to have our imports and the logging configuration."
   ]
  },
  {
   "cell_type": "code",
   "execution_count": 1,
   "id": "0a3ededc",
   "metadata": {
    "execution": {
     "iopub.execute_input": "2025-03-17T03:28:22.422394Z",
     "iopub.status.busy": "2025-03-17T03:28:22.422212Z",
     "iopub.status.idle": "2025-03-17T03:28:23.934620Z",
     "shell.execute_reply": "2025-03-17T03:28:23.934061Z"
    }
   },
   "outputs": [],
   "source": [
    "from xgboost import XGBRegressor\n",
    "from sklearn.multioutput import MultiOutputRegressor\n",
    "\n",
    "import sys\n",
    "import os\n",
    "\n",
    "sys.path.append(os.path.dirname(\"/Users/mac/Desktop/train_delay_prediction/utils.py\"))\n",
    "\n",
    "from utils import *\n",
    "\n",
    "logging.basicConfig(\n",
    "    filename='xgboost_evaluation.log',\n",
    "    level=logging.INFO,\n",
    "    format='%(asctime)s - %(levelname)s - %(message)s',\n",
    ")\n",
    "logging.info(\"Starting eXtreme Gradient Boosting evaluation script.\")"
   ]
  },
  {
   "cell_type": "code",
   "execution_count": 2,
   "id": "343181e1",
   "metadata": {
    "execution": {
     "iopub.execute_input": "2025-03-17T03:28:23.937103Z",
     "iopub.status.busy": "2025-03-17T03:28:23.936799Z",
     "iopub.status.idle": "2025-03-17T03:28:23.940401Z",
     "shell.execute_reply": "2025-03-17T03:28:23.940048Z"
    }
   },
   "outputs": [
    {
     "name": "stdout",
     "output_type": "stream",
     "text": [
      "Running XGBoost with n_estimators=50 and max_depth=10\n"
     ]
    }
   ],
   "source": [
    "# with open('config.json', 'r') as f:\n",
    "#     config = json.load(f)\n",
    "\n",
    "# n_estimators = config.get('n_estimators', 10)\n",
    "# max_depth = config.get('max_depth', 10)  \n",
    "\n",
    "# The ones that perform best for normal data:\n",
    "# n_estimators = 10\n",
    "# max_depth = 7\n",
    "\n",
    "# The ones that perform best for data with more features:\n",
    "n_estimators = 50\n",
    "max_depth = 10\n",
    "\n",
    "\n",
    "print(f\"Running XGBoost with n_estimators={n_estimators} and max_depth={max_depth}\")"
   ]
  },
  {
   "cell_type": "markdown",
   "id": "c5216af9",
   "metadata": {},
   "source": [
    "Then we have to load the data and split it correctly, in a way that is not biased. This means separating the test and train set in a way that they are independent according to the dates of departure in order to mitigate overfitting."
   ]
  },
  {
   "cell_type": "code",
   "execution_count": 3,
   "id": "fd481633",
   "metadata": {
    "execution": {
     "iopub.execute_input": "2025-03-17T03:28:23.943075Z",
     "iopub.status.busy": "2025-03-17T03:28:23.942913Z",
     "iopub.status.idle": "2025-03-17T03:28:45.043623Z",
     "shell.execute_reply": "2025-03-17T03:28:45.039504Z"
    }
   },
   "outputs": [],
   "source": [
    "data = load_data_more_features(percentage_of_data_usage=1.0)\n",
    "\n",
    "X_train = data[\"X_train\"]\n",
    "y_train = data[\"y_train\"]\n",
    "X_test = data[\"X_test\"]\n",
    "y_test = data[\"y_test\"]"
   ]
  },
  {
   "cell_type": "markdown",
   "id": "8ff98f65",
   "metadata": {},
   "source": [
    "Now, we our going to do a multi-output regression, fit the model to our data, and get the predicted delay stored in a variable."
   ]
  },
  {
   "cell_type": "code",
   "execution_count": 4,
   "id": "1bef234a",
   "metadata": {
    "execution": {
     "iopub.execute_input": "2025-03-17T03:28:45.055812Z",
     "iopub.status.busy": "2025-03-17T03:28:45.055597Z",
     "iopub.status.idle": "2025-03-17T03:59:39.482475Z",
     "shell.execute_reply": "2025-03-17T03:59:39.481797Z"
    }
   },
   "outputs": [],
   "source": [
    "trained_models = {}\n",
    "\n",
    "xgb_regressor = MultiOutputRegressor(\n",
    "    XGBRegressor(\n",
    "        n_estimators=n_estimators,\n",
    "        max_depth=max_depth,\n",
    "        random_state=42,\n",
    "        n_jobs=-1\n",
    "    )\n",
    ")\n",
    "\n",
    "model_name = \"XGBoost\"\n",
    "trained_model_data = train(xgb_regressor, X_train, y_train, model_name, savemodel=False)\n",
    "trained_models[model_name] = trained_model_data"
   ]
  },
  {
   "cell_type": "markdown",
   "id": "b2b0cd38",
   "metadata": {},
   "source": [
    "We are defining some score metrics to measure accuracy and eventually compare our model to the others. We will save all of those metrics in a .npy and in a .json file in order to store them and load them easily when needed."
   ]
  },
  {
   "cell_type": "code",
   "execution_count": 5,
   "id": "ffbd2b7b",
   "metadata": {
    "execution": {
     "iopub.execute_input": "2025-03-17T03:59:39.486001Z",
     "iopub.status.busy": "2025-03-17T03:59:39.485834Z",
     "iopub.status.idle": "2025-03-17T03:59:44.177230Z",
     "shell.execute_reply": "2025-03-17T03:59:44.176516Z"
    }
   },
   "outputs": [],
   "source": [
    "metrics_2 = evaluate_2(\n",
    "    trained_model=trained_model_data,\n",
    "    X_test=X_test,\n",
    "    y_test=y_test,\n",
    "    model_name=model_name,\n",
    ")"
   ]
  },
  {
   "cell_type": "markdown",
   "id": "8e89dcd8",
   "metadata": {},
   "source": [
    "The next step is having some graphs just to visualize some results. An important graph is the last one, where we get to see which features have the most influence on our predictions."
   ]
  },
  {
   "cell_type": "code",
   "execution_count": 11,
   "id": "fe8b27cb",
   "metadata": {
    "execution": {
     "iopub.execute_input": "2025-03-17T03:59:44.181514Z",
     "iopub.status.busy": "2025-03-17T03:59:44.181128Z",
     "iopub.status.idle": "2025-03-17T03:59:44.185301Z",
     "shell.execute_reply": "2025-03-17T03:59:44.184107Z"
    }
   },
   "outputs": [
    {
     "name": "stderr",
     "output_type": "stream",
     "text": [
      "Calculating feature importance: 100%|██████████| 1/1 [14:20<00:00, 860.65s/it]\n"
     ]
    }
   ],
   "source": [
    "calculate_feature_importance(\n",
    "    trained_models=trained_models,\n",
    "    X_test=X_test,\n",
    "    y_test=y_test,\n",
    "    feature_mapping=data[\"columns_scheme\"][\"x\"],\n",
    "    top_features_threshold=0.01,\n",
    "    n_repeats=5\n",
    ")"
   ]
  },
  {
   "cell_type": "markdown",
   "id": "d901efc5",
   "metadata": {},
   "source": [
    "## Run With New Target"
   ]
  },
  {
   "cell_type": "code",
   "execution_count": 7,
   "id": "9de03f94",
   "metadata": {
    "execution": {
     "iopub.execute_input": "2025-03-17T03:59:44.189093Z",
     "iopub.status.busy": "2025-03-17T03:59:44.188839Z",
     "iopub.status.idle": "2025-03-17T03:59:44.192751Z",
     "shell.execute_reply": "2025-03-17T03:59:44.192126Z"
    }
   },
   "outputs": [],
   "source": [
    "# data_newtarget = load_data_newtarget(percentage_of_data_usage=0.01)\n",
    "\n",
    "# X_train_newtarget = data_newtarget[\"X_train\"]\n",
    "# y_train_newtarget = data_newtarget[\"y_train\"]\n",
    "# X_test_newtarget = data_newtarget[\"X_test\"]\n",
    "# y_test_newtarget = data_newtarget[\"y_test\"]"
   ]
  },
  {
   "cell_type": "code",
   "execution_count": 8,
   "id": "da7cbbae",
   "metadata": {
    "execution": {
     "iopub.execute_input": "2025-03-17T03:59:44.196417Z",
     "iopub.status.busy": "2025-03-17T03:59:44.196017Z",
     "iopub.status.idle": "2025-03-17T03:59:44.200462Z",
     "shell.execute_reply": "2025-03-17T03:59:44.199697Z"
    }
   },
   "outputs": [],
   "source": [
    "# trained_models_newtarget = {}\n",
    "\n",
    "# xgb_regressor_newtarget = MultiOutputRegressor(\n",
    "#     XGBRegressor(\n",
    "#         n_estimators=n_estimators,\n",
    "#         max_depth=max_depth,\n",
    "#         random_state=42,\n",
    "#         n_jobs=-1\n",
    "#     )\n",
    "# )\n",
    "\n",
    "# model_name = \"XGBoost\"\n",
    "# trained_model_data_newtarget = train(xgb_regressor_newtarget, X_train_newtarget, y_train_newtarget, model_name, savemodel=False)\n",
    "# trained_models_newtarget[model_name] = trained_model_data_newtarget"
   ]
  },
  {
   "cell_type": "code",
   "execution_count": 9,
   "id": "995368c6",
   "metadata": {
    "execution": {
     "iopub.execute_input": "2025-03-17T03:59:44.205202Z",
     "iopub.status.busy": "2025-03-17T03:59:44.204662Z",
     "iopub.status.idle": "2025-03-17T03:59:44.208692Z",
     "shell.execute_reply": "2025-03-17T03:59:44.207968Z"
    }
   },
   "outputs": [],
   "source": [
    "# metrics_2_newtarget = evaluate_2_newtarget(\n",
    "#     trained_model=trained_model_data_newtarget,\n",
    "#     X_test=X_test_newtarget,\n",
    "#     y_test=y_test_newtarget,\n",
    "#     model_name=model_name,\n",
    "# )"
   ]
  },
  {
   "cell_type": "code",
   "execution_count": 10,
   "id": "14cd5bee",
   "metadata": {
    "execution": {
     "iopub.execute_input": "2025-03-17T03:59:44.212664Z",
     "iopub.status.busy": "2025-03-17T03:59:44.212394Z",
     "iopub.status.idle": "2025-03-17T03:59:44.217140Z",
     "shell.execute_reply": "2025-03-17T03:59:44.215807Z"
    }
   },
   "outputs": [],
   "source": [
    "logging.info(\"XGB evaluation completed.\")"
   ]
  },
  {
   "cell_type": "markdown",
   "id": "7b935ad3",
   "metadata": {},
   "source": [
    "### We are done with the evaluation of the data and prediction of train delay prediction with this model and will move on to the next one. Feel free to load the results wherever they are needed, check out the other models, or see the comparison of all models in the report."
   ]
  }
 ],
 "metadata": {
  "kernelspec": {
   "display_name": "base",
   "language": "python",
   "name": "python3"
  },
  "language_info": {
   "codemirror_mode": {
    "name": "ipython",
    "version": 3
   },
   "file_extension": ".py",
   "mimetype": "text/x-python",
   "name": "python",
   "nbconvert_exporter": "python",
   "pygments_lexer": "ipython3",
   "version": "3.11.8"
  }
 },
 "nbformat": 4,
 "nbformat_minor": 5
}
