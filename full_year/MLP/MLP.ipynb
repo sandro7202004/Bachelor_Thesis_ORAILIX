{
 "cells": [
  {
   "cell_type": "code",
   "execution_count": 1,
   "id": "cf1b7629",
   "metadata": {},
   "outputs": [],
   "source": [
    "from sklearn.neural_network import MLPRegressor\n",
    "\n",
    "import sys\n",
    "import os\n",
    "\n",
    "sys.path.append(os.path.dirname(\"/Users/mac/Desktop/train_delay_prediction/utils.py\"))\n",
    "\n",
    "from utils import *\n",
    "\n",
    "logging.basicConfig(\n",
    "    filename='MLP_evaluation.log',\n",
    "    level=logging.INFO,\n",
    "    format='%(asctime)s - %(levelname)s - %(message)s',\n",
    ")\n",
    "logging.info(\"Starting Multilayer Perceptron evaluation.\")"
   ]
  },
  {
   "cell_type": "code",
   "execution_count": null,
   "id": "bf474ad0",
   "metadata": {},
   "outputs": [],
   "source": [
    "# PARAMETERS\n",
    "percentage_of_data_usage = 1.0\n",
    "train_months = [1]    \n",
    "test_months = [12] \n",
    "suffix = \"\"            "
   ]
  },
  {
   "cell_type": "code",
   "execution_count": null,
   "id": "9886ee2b",
   "metadata": {},
   "outputs": [],
   "source": [
    "data = load_full_year_data(percentage_of_data_usage=percentage_of_data_usage, train_months=train_months, test_months=test_months)\n",
    "\n",
    "X_train = data[\"X_train\"]\n",
    "y_train = data[\"y_train\"]\n",
    "X_test = data[\"X_test\"]\n",
    "y_test = data[\"y_test\"]"
   ]
  },
  {
   "cell_type": "code",
   "execution_count": null,
   "id": "5d7f0d97",
   "metadata": {},
   "outputs": [],
   "source": [
    "architectures = [\n",
    "    {\"name\": \"256-256\", \"hidden_layer_sizes\": (256, 256)},\n",
    "    {\"name\": \"50-50-50\", \"hidden_layer_sizes\": (50, 50, 50)},\n",
    "]\n",
    "\n",
    "trained_models = {}\n",
    "\n",
    "for arch in architectures:\n",
    "    model_name = arch[\"name\"]\n",
    "    model = MLPRegressor(\n",
    "        hidden_layer_sizes=arch[\"hidden_layer_sizes\"],\n",
    "        activation=\"relu\",\n",
    "        solver=\"adam\",\n",
    "        max_iter=200,\n",
    "        random_state=42,\n",
    "        n_iter_no_change=10,\n",
    "    )\n",
    "\n",
    "    trained_model_data = train(model, X_train, y_train, model_name, savemodel=False)\n",
    "    trained_models[model_name] = trained_model_data\n",
    "\n",
    "    logging.info(f\"Starting evaluation {suffix}\")\n",
    "    metrics = evaluate_2_fullyear(trained_model=trained_model_data, X_test=X_test, y_test=y_test, model_name=model_name + suffix)\n",
    "    logging.info(f\"Evaluation complete {suffix}\")\n",
    "\n",
    "combine_metrics()"
   ]
  },
  {
   "cell_type": "code",
   "execution_count": null,
   "id": "56d6bbab",
   "metadata": {},
   "outputs": [],
   "source": [
    "# visualize_network_architecture(architectures, X_train, y_train)\n",
    "\n",
    "# calculate_feature_importance(\n",
    "#     trained_models=trained_models, \n",
    "#     X_test=X_test,\n",
    "#     y_test=y_test,\n",
    "#     feature_mapping=data[\"columns_scheme\"][\"x\"],\n",
    "#     top_features_threshold=0.1,\n",
    "#     n_repeats=5\n",
    "# )"
   ]
  }
 ],
 "metadata": {
  "kernelspec": {
   "display_name": "base",
   "language": "python",
   "name": "python3"
  },
  "language_info": {
   "codemirror_mode": {
    "name": "ipython",
    "version": 3
   },
   "file_extension": ".py",
   "mimetype": "text/x-python",
   "name": "python",
   "nbconvert_exporter": "python",
   "pygments_lexer": "ipython3",
   "version": "3.11.8"
  }
 },
 "nbformat": 4,
 "nbformat_minor": 5
}
